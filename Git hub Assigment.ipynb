{
 "cells": [
  {
   "cell_type": "code",
   "execution_count": 2,
   "id": "91bb17fd-3d94-4da2-9346-b4334d749be6",
   "metadata": {
    "colab": {
     "base_uri": "https://localhost:8080/",
     "height": 373
    },
    "executionInfo": {
     "elapsed": 34640,
     "status": "error",
     "timestamp": 1738590399709,
     "user": {
      "displayName": "Sagar Mamidala",
      "userId": "13570248549083529796"
     },
     "user_tz": -330
    },
    "id": "91bb17fd-3d94-4da2-9346-b4334d749be6",
    "outputId": "ed8aed0a-8110-4164-f716-782ac179f7ca"
   },
   "outputs": [
    {
     "name": "stdout",
     "output_type": "stream",
     "text": [
      "enter the name: dds\n",
      "enter the password:sdsd\n",
      " worng password ,try again 2 times\n",
      "enter the password:dsd\n",
      "wrong password ,try again 1 time\n",
      "enter the password:p4n@in\n",
      "start the exam bro , your already late for exam\n",
      "                     1. Who invented Java Programming?\n",
      "                               1. ) Guido van Rossum\n",
      "                               2. ) James Gosling\n",
      "                               3. ) Dennis Ritchie\n",
      "                               4. ) Bjarne Stroustrup \n",
      "enter the answerJames Gosling\n",
      "  congratulation next to go to the  2 question\n",
      "                 start the 2 question\n",
      "                     2. Which component is used to compile, debug and execute the java programs?\n",
      "                            1. ) JRE\n",
      "                            2. ) JIT\n",
      "                            3. ) JDKsa\n",
      "                            4. ) JVM \n",
      "enter the answerJIT\n",
      "Congratulation your passed the exam\n"
     ]
    }
   ],
   "source": [
    "username = input(\"enter the name: \")\n",
    "password = input(\"enter the password:\")\n",
    "\n",
    "if password == \"p4n@in\":\n",
    "    print( \"\"\"start the Exam\n",
    "             1. Who invented Java Programming?\n",
    "                 1. ) Guido van Rossum\n",
    "                 2. ) James Gosling\n",
    "                 3. ) Dennis Ritchie\n",
    "                 4. ) Bjarne Stroustrup \"\"\" )\n",
    "    answer = input(\"enter the answer\")\n",
    "    if answer == \"James Gosling\" :\n",
    "        print(\"\"\"  congratulation next to go to the  2 question\n",
    "                 start the 2 question\n",
    "                     2. Which component is used to compile, debug and execute the java programs?\n",
    "                            1. ) JRE\n",
    "                            2. ) JIT\n",
    "                            3. ) JDK\n",
    "                            4. ) JVM \"\"\")\n",
    "        answer = input(\"enter the answer\")\n",
    "        if answer == \"JIT\":\n",
    "            print(\"Congratulation your passed the exam\")\n",
    "        else:\n",
    "            print(\"Try next year\")\n",
    "    else:\n",
    "        print(\"Try Next year\")\n",
    "else:\n",
    "    print(' worng password ,try again 2 times')\n",
    "    password = input(\"enter the password:\")\n",
    "    if password == \"p4n@in\":\n",
    "        print(\"\"\"start the exam\n",
    "                 1. Who invented Java Programming?\n",
    "                               1. ) Guido van Rossum\n",
    "                               2. ) James Gosling\n",
    "                               3. ) Dennis Ritchie\n",
    "                               4. ) Bjarne Stroustrup \"\"\" )\n",
    "        answer = input(\"enter the answer\")\n",
    "        if answer == \"James Gosling\" :\n",
    "            print(\"\"\"congratulation  to go to the  2 question\n",
    "                     start the 2 question\n",
    "                      2. Which component is used to compile, debug and execute the java programs?\n",
    "                            1. ) JRE\n",
    "                            2. ) JIT\n",
    "                            3. ) JDK\n",
    "                            4. ) JVM \"\"\")\n",
    "            answer = input(\"enter the answer\")\n",
    "            if answer == \"JIT\":\n",
    "                print(\"Congratulation your passed the exam\")\n",
    "            else:\n",
    "                print(\"Try Next Year\")\n",
    "        else:\n",
    "            print(\"Try Next year\")\n",
    "    else:\n",
    "        print(\"wrong password ,try again 1 time\")\n",
    "        password = input(\"enter the password:\")\n",
    "        if password ==\"p4n@in\":\n",
    "            print(\"\"\"start the exam bro , your already late for exam\n",
    "                     1. Who invented Java Programming?\n",
    "                               1. ) Guido van Rossum\n",
    "                               2. ) James Gosling\n",
    "                               3. ) Dennis Ritchie\n",
    "                               4. ) Bjarne Stroustrup \"\"\" )\n",
    "            answer = input(\"enter the answer\")\n",
    "            if answer == \"James Gosling\" :\n",
    "                print(\"\"\"  congratulation next to go to the  2 question\n",
    "                 start the 2 question\n",
    "                     2. Which component is used to compile, debug and execute the java programs?\n",
    "                            1. ) JRE\n",
    "                            2. ) JIT\n",
    "                            3. ) JDKsa\n",
    "                            4. ) JVM \"\"\")\n",
    "                answer = input(\"enter the answer\")\n",
    "                if answer == \"JIT\":\n",
    "                    print(\"Congratulation your passed the exam\")\n",
    "                else:\n",
    "                    print(\"Try next year\")\n",
    "            else:\n",
    "                print(\"Try Next Year\")\n",
    "        else:\n",
    "            print(\"bye bro ,you loss your chances try later and try to think about what is your password once and come again and start the exam\")\n",
    "\n"
   ]
  }
 ],
 "metadata": {
  "colab": {
   "provenance": []
  },
  "kernelspec": {
   "display_name": "Python 3 (ipykernel)",
   "language": "python",
   "name": "python3"
  },
  "language_info": {
   "codemirror_mode": {
    "name": "ipython",
    "version": 3
   },
   "file_extension": ".py",
   "mimetype": "text/x-python",
   "name": "python",
   "nbconvert_exporter": "python",
   "pygments_lexer": "ipython3",
   "version": "3.9.12"
  }
 },
 "nbformat": 4,
 "nbformat_minor": 5
}
